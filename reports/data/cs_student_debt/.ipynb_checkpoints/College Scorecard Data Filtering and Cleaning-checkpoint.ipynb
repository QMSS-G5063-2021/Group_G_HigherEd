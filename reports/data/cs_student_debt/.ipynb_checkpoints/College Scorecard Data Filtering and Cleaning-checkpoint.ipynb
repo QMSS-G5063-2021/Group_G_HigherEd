{
 "cells": [
  {
   "cell_type": "markdown",
   "id": "patent-colombia",
   "metadata": {},
   "source": [
    "This is the python code that I used to select specific columns with valid admissions rates (not for-profit) and concatenated the columns as needed. "
   ]
  },
  {
   "cell_type": "code",
   "execution_count": 1,
   "id": "illegal-psychology",
   "metadata": {},
   "outputs": [],
   "source": [
    "import pandas as pd "
   ]
  },
  {
   "cell_type": "code",
   "execution_count": 2,
   "id": "eastern-telephone",
   "metadata": {},
   "outputs": [],
   "source": [
    "#Filepath - change if you want csv's elsewhere. \n",
    "filepath = '/Users/ConnieXu/Corporate_Climate_Local_Folder/college_scorecard_files/'\n",
    "\n",
    "# Community College Lookup File\n",
    "df0 = pd.read_csv(filepath+ 'community_college_list.csv')\n",
    "df0 = df0.rename(columns={'UNIT_ID ':'UNITID'})\n"
   ]
  },
  {
   "cell_type": "markdown",
   "id": "understanding-simpson",
   "metadata": {},
   "source": [
    "Saved Down Subset df's with the necessary columns - only valid admissions rates.\n",
    "- refer to column descriptions at **process notebook** in **reports** folders"
   ]
  },
  {
   "cell_type": "code",
   "execution_count": 3,
   "id": "nominated-envelope",
   "metadata": {},
   "outputs": [
    {
     "name": "stderr",
     "output_type": "stream",
     "text": [
      "/Users/ConnieXu/opt/anaconda3/lib/python3.8/site-packages/IPython/core/interactiveshell.py:3155: DtypeWarning: Columns (1,1351,1365,1377,1378,1407,1408,1411,1426,1431,1432,1433,1445,1446,1447,1461,1489,1537,1538,1539,1540,1541,1542,1547,1548,1549,1553,1554,1559,1560,1561,1562,1563,1567,1568,1571,1572,1573,1574,1606,1609,1610,1611,1613,1614,1615,1616,1636,1637,1711,1723,1724,1729,1909,1910,1911,1912,1913) have mixed types.Specify dtype option on import or set low_memory=False.\n",
      "  has_raised = await self.run_ast_nodes(code_ast.body, cell_name,\n"
     ]
    }
   ],
   "source": [
    "#Read only for 2009-2010\n",
    "df = pd.read_csv(filepath + 'MERGED20'+ '09' +'_' + '10'+'_PP.csv') \n",
    "\n",
    "# Removal of for profit universities \n",
    "df = df[df['CONTROL']!=3]\n",
    "\n",
    "# Filter for specific columns \n",
    "df = df[[\"UNITID\",\"INSTNM\",\"CITY\",\"STABBR\",\"ZIP\",\"LATITUDE\",\"LONGITUDE\",\"UGDS\",\"ADM_RATE\",\"CONTROL\",\"ACTCMMID\",\"SAT_AVG\",\\\n",
    "     \"COSTT4_A\",\"UNEMP_RATE\",\"DEBT_MDN\",\"MN_EARN_WNE_P10\",\"MD_EARN_WNE_P10\",\"UGDS_WHITE\",\"UGDS_BLACK\",\"UGDS_HISP\",\"UGDS_ASIAN\"\\\n",
    "     ,\"UGDS_AIAN\",\"UGDS_NHPI\"]]\n",
    "\n",
    "# Filter out Community Colleges \n",
    "df['UNITID'] = df['UNITID'].astype('str')\n",
    "df = df.merge(df0,on='UNITID', how = 'outer', indicator='True')\n",
    "df = df[df['True']!='both']\n",
    "df = df[df.UNITID!='434584']\n",
    "df = df[df.UNITID!='102711']\n",
    "\n",
    "# Removed Extraneous non-admissions \n",
    "df['ADM_RATE_ALL_1'] = df['ADM_RATE']\n",
    "df['ADM_RATE_ALL_1'] = df['ADM_RATE_ALL_1'].fillna(0)\n",
    "df['ADM_RATE_ALL_1'] = df['ADM_RATE_ALL_1'].apply(lambda x:1 if x!=0 else 0)\n",
    "df['ADM_RATE_ALL_1'] = df['ADM_RATE_ALL_1'].apply(lambda x:'Present' if x!=0 else 'Missing')\n",
    "df['Year'] = '09'\n",
    "\n",
    "#df.to_csv (saved locally) \n",
    "updated_df = df[df['ADM_RATE_ALL_1']!='Missing']\n",
    "updated_df.to_csv(filepath+'09'+'_College_Scorecard_Valid_Admissions_Data.csv')"
   ]
  },
  {
   "cell_type": "code",
   "execution_count": 4,
   "id": "checked-elevation",
   "metadata": {},
   "outputs": [
    {
     "name": "stderr",
     "output_type": "stream",
     "text": [
      "/Users/ConnieXu/opt/anaconda3/lib/python3.8/site-packages/IPython/core/interactiveshell.py:3155: DtypeWarning: Columns (1,6,1170,1171,1173,1174,1175,1177,1179,1180,1183,1184,1186,1187,1196,1209,1222,1223,1225,1226,1235,1236,1238,1239,1248,1249,1251,1252,1261,1262,1264,1265,1274,1275,1277,1278,1279,1287,1288,1290,1291,1292,1326,1327,1329,1330,1331,1335,1339,1340,1342,1343,1344,1348,1407,1408,1409,1410,1411,1412,1413,1414,1415,1416,1420,1426,1427,1431,1432,1461,1475,1487,1488,1489,1490,1491,1492,1493,1494,1495,1496,1497,1498,1499,1500,1501,1502,1503,1506,1509,1510,1511,1512,1513,1514,1515,1516,1517,1520,1521,1522,1523,1524,1525,1526,1527,1528,1529,1530,1532,1534,1535,1537,1538,1539,1540,1541,1542,1546,1547,1559,1560,1561,1604,1605,1606,1609,1610,1611,1613,1614,1615,1616,1688,1689,1690,1691,1692,1703,1704,1705,1706,1707,1708,1729,1909,1910,1911,1912,1913) have mixed types.Specify dtype option on import or set low_memory=False.\n",
      "  has_raised = await self.run_ast_nodes(code_ast.body, cell_name,\n",
      "/Users/ConnieXu/opt/anaconda3/lib/python3.8/site-packages/IPython/core/interactiveshell.py:3155: DtypeWarning: Columns (1433,1447,1489,1501,1502,1537,1540,1542,1547,1553,1554,1559,1560,1606,1614,1615,1636,1637,1638,1639,1640,1641,1642,1643,1644,1645,1646,1647,1648,1649,1650,1651,1652,1653,1658,1659,1693,1694,1729,1909,1910,1911,1912,1913) have mixed types.Specify dtype option on import or set low_memory=False.\n",
      "  has_raised = await self.run_ast_nodes(code_ast.body, cell_name,\n",
      "/Users/ConnieXu/opt/anaconda3/lib/python3.8/site-packages/IPython/core/interactiveshell.py:3155: DtypeWarning: Columns (1489,1537,1540,1542,1561,1575,1606,1614,1615,1729,1909,1910,1911,1912,1913) have mixed types.Specify dtype option on import or set low_memory=False.\n",
      "  has_raised = await self.run_ast_nodes(code_ast.body, cell_name,\n",
      "/Users/ConnieXu/opt/anaconda3/lib/python3.8/site-packages/IPython/core/interactiveshell.py:3155: DtypeWarning: Columns (1547,1575,1576,1577,1587,1588,1729,1909,1910,1911,1912,1913) have mixed types.Specify dtype option on import or set low_memory=False.\n",
      "  has_raised = await self.run_ast_nodes(code_ast.body, cell_name,\n",
      "/Users/ConnieXu/opt/anaconda3/lib/python3.8/site-packages/IPython/core/interactiveshell.py:3155: DtypeWarning: Columns (6,1537,1540,1542,1575,1589,1606,1610,1614,1615,1729,1909,1910,1911,1912,1913) have mixed types.Specify dtype option on import or set low_memory=False.\n",
      "  has_raised = await self.run_ast_nodes(code_ast.body, cell_name,\n",
      "/Users/ConnieXu/opt/anaconda3/lib/python3.8/site-packages/IPython/core/interactiveshell.py:3155: DtypeWarning: Columns (1537,1540,1542,1561,1589,1590,1591,1601,1602,1606,1614,1615,1729,1909,1910,1911,1912,1913) have mixed types.Specify dtype option on import or set low_memory=False.\n",
      "  has_raised = await self.run_ast_nodes(code_ast.body, cell_name,\n",
      "/Users/ConnieXu/opt/anaconda3/lib/python3.8/site-packages/IPython/core/interactiveshell.py:3155: DtypeWarning: Columns (6,1729,1909,1910,1911,1912,1913) have mixed types.Specify dtype option on import or set low_memory=False.\n",
      "  has_raised = await self.run_ast_nodes(code_ast.body, cell_name,\n",
      "/Users/ConnieXu/opt/anaconda3/lib/python3.8/site-packages/IPython/core/interactiveshell.py:3155: DtypeWarning: Columns (1729,1909,1910,1911,1912,1913) have mixed types.Specify dtype option on import or set low_memory=False.\n",
      "  has_raised = await self.run_ast_nodes(code_ast.body, cell_name,\n",
      "/Users/ConnieXu/opt/anaconda3/lib/python3.8/site-packages/IPython/core/interactiveshell.py:3155: DtypeWarning: Columns (9,1725,1726,1727,1728,1729,1743,1815,1816,1817,1818,1823,1824,1830,1831,1879,1880,1881,1882,1883,1884,1885,1886,1887,1888,1889,1890,1891,1892,1893,1894,1895,1896,1897,1898,1909,1910,1911,1912,1913,1957,1958,1959,1960,1961,1962,1963,1964,1965,1966,1967,1968,1969,1970,1971,1972,1973,1974,1975,1976,1983,1984,2376,2377) have mixed types.Specify dtype option on import or set low_memory=False.\n",
      "  has_raised = await self.run_ast_nodes(code_ast.body, cell_name,\n"
     ]
    }
   ],
   "source": [
    "#Read only for YE 2011-2019\n",
    "\n",
    "for i in range(10,19):\n",
    "    df = pd.read_csv(filepath + 'MERGED20'+ str(i) +'_' + str(i+1)+'_PP.csv')\n",
    "    \n",
    "    # Removed for-profit universities \n",
    "    df = df[df['CONTROL']!=3]\n",
    "    df = df[[\"UNITID\",\"INSTNM\",\"CITY\",\"STABBR\",\"ZIP\",\"LATITUDE\",\"LONGITUDE\",\"UGDS\",\"ADM_RATE\",\"CONTROL\",\"ACTCMMID\",\"SAT_AVG\",\\\n",
    "         \"COSTT4_A\",\"UNEMP_RATE\",\"DEBT_MDN\",\"MN_EARN_WNE_P10\",\"MD_EARN_WNE_P10\",\"UGDS_WHITE\",\"UGDS_BLACK\",\"UGDS_HISP\",\"UGDS_ASIAN\"\\\n",
    "         ,\"UGDS_AIAN\",\"UGDS_NHPI\"]]\n",
    "    \n",
    "    # Removed Community Colleges \n",
    "    df['UNITID'] = df['UNITID'].astype('str')\n",
    "    df = df.merge(df0,on='UNITID', how = 'outer', indicator='True')\n",
    "    df = df[df['True']!='both']\n",
    "    \n",
    "    #Removed Extraneous non-admissions \n",
    "    df['ADM_RATE_ALL_1'] = df['ADM_RATE']\n",
    "    df['ADM_RATE_ALL_1'] = df['ADM_RATE_ALL_1'].fillna(0)\n",
    "    df['ADM_RATE_ALL_1'] = df['ADM_RATE_ALL_1'].apply(lambda x:1 if x!=0 else 0)\n",
    "    df['ADM_RATE_ALL_1'] = df['ADM_RATE_ALL_1'].apply(lambda x:'Present' if x!=0 else 'Missing')\n",
    "    df = df[df['ADM_RATE_ALL_1']!='Missing']\n",
    "    df['Year'] = str(i)\n",
    "\n",
    "    df[df['ADM_RATE_ALL_1']!='Missing'].to_csv(filepath+str(i)+'_College_Scorecard_Valid_Admissions_Data.csv')\n",
    "    updated_df = df.append(updated_df)\n"
   ]
  },
  {
   "cell_type": "code",
   "execution_count": 5,
   "id": "automated-dover",
   "metadata": {
    "scrolled": true
   },
   "outputs": [
    {
     "data": {
      "text/plain": [
       "2016    3315\n",
       "2018    3310\n",
       "2017    3307\n",
       "2014    3302\n",
       "2019    3301\n",
       "2012    3300\n",
       "2013    3288\n",
       "2015    3256\n",
       "2011    3245\n",
       "2010    1854\n",
       "Name: Year_Ending, dtype: int64"
      ]
     },
     "execution_count": 5,
     "metadata": {},
     "output_type": "execute_result"
    }
   ],
   "source": [
    "updated_df['Year_Starting'] = '20'+updated_df['Year']\n",
    "updated_df['Year_Starting'] = updated_df['Year_Starting'].astype('int')\n",
    "updated_df['Year_Ending'] = updated_df['Year_Starting']+1\n",
    "updated_df.to_csv('2009_2019_student_debt.csv')\n",
    "updated_df['Year_Ending'].value_counts()"
   ]
  }
 ],
 "metadata": {
  "kernelspec": {
   "display_name": "Python 3",
   "language": "python",
   "name": "python3"
  },
  "language_info": {
   "codemirror_mode": {
    "name": "ipython",
    "version": 3
   },
   "file_extension": ".py",
   "mimetype": "text/x-python",
   "name": "python",
   "nbconvert_exporter": "python",
   "pygments_lexer": "ipython3",
   "version": "3.8.5"
  }
 },
 "nbformat": 4,
 "nbformat_minor": 5
}
